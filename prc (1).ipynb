{
 "cells": [
  {
   "cell_type": "markdown",
   "id": "f7253dbf",
   "metadata": {},
   "source": [
    "# 1. Text Preprocessing"
   ]
  },
  {
   "cell_type": "code",
   "execution_count": 1,
   "id": "a64cf651",
   "metadata": {},
   "outputs": [
    {
     "name": "stdout",
     "output_type": "stream",
     "text": [
      "Original -   This setence iS FOR Tex*t preproce$$ing\n",
      "Preprocessed -   this setence is for text preproceing\n",
      "Final after removing stop words -  setence text preproceing\n"
     ]
    }
   ],
   "source": [
    "import re\n",
    "import nltk\n",
    "from nltk.corpus import stopwords\n",
    "txt = ' This setence iS FOR Tex*t preproce$$ing'\n",
    "print ('Original - ',txt)\n",
    "txt = txt.lower()\n",
    "txt = re.sub(r'[^a-zA-Z\\s]','',txt)\n",
    "print('Preprocessed - ',txt)\n",
    "sw=set(stopwords.words('english'))\n",
    "tkns = txt.split()\n",
    "txt = ' '.join(word for word in tkns if word not in sw)\n",
    "print('Final after removing stop words - ',txt)"
   ]
  },
  {
   "cell_type": "code",
   "execution_count": 3,
   "id": "eb0b4d21",
   "metadata": {},
   "outputs": [
    {
     "name": "stdout",
     "output_type": "stream",
     "text": [
      "Original -   This setence iS FOR Tex*t preproce$$ing\n",
      "Preprocessed -   this setence is for text preproceing\n",
      "Final after removing stop words -  setence text preproceing\n",
      "Word Frequency Distribution:\n",
      "setence: 1\n",
      "text: 1\n",
      "preproceing: 1\n"
     ]
    }
   ],
   "source": [
    "import re\n",
    "import nltk\n",
    "from nltk.corpus import stopwords\n",
    "from collections import Counter\n",
    "\n",
    "txt = ' This setence iS FOR Tex*t preproce$$ing'\n",
    "print('Original - ', txt)\n",
    "\n",
    "txt = txt.lower()  # Convert to lowercase\n",
    "txt = re.sub(r'[^a-zA-Z\\s]', '', txt)  # Remove non-alphabetic characters\n",
    "print('Preprocessed - ', txt)\n",
    "\n",
    "sw = set(stopwords.words('english'))\n",
    "tkns = txt.split()\n",
    "txt_filtered = ' '.join(word for word in tkns if word not in sw)\n",
    "print('Final after removing stop words - ', txt_filtered)\n",
    "\n",
    "word_counts = Counter(txt_filtered.split())\n",
    "print('Word Frequency Distribution:')\n",
    "for word, freq in word_counts.items():\n",
    "    print(f\"{word}: {freq}\")\n"
   ]
  },
  {
   "cell_type": "markdown",
   "id": "5e5871d2",
   "metadata": {},
   "source": [
    "# 2. Tokenization and Stemming"
   ]
  },
  {
   "cell_type": "code",
   "execution_count": 2,
   "id": "bc477254",
   "metadata": {},
   "outputs": [
    {
     "name": "stdout",
     "output_type": "stream",
     "text": [
      "['Hello', 'there', ',', 'I', 'am', 'currently', 'typing']\n",
      "hello there , i am current type\n"
     ]
    }
   ],
   "source": [
    "from nltk.tokenize import word_tokenize\n",
    "from nltk.stem import PorterStemmer\n",
    "txt = 'Hello there , I am currently typing'\n",
    "tok = word_tokenize(txt)\n",
    "print(tok)\n",
    "stemmer=PorterStemmer()\n",
    "stm = [stemmer.stem(tk) for tk in tok]\n",
    "fin_sen = ' '.join(stm)\n",
    "print(fin_sen)"
   ]
  },
  {
   "cell_type": "markdown",
   "id": "acca9080",
   "metadata": {},
   "source": [
    "# 3.Lemmatization"
   ]
  },
  {
   "cell_type": "code",
   "execution_count": 3,
   "id": "f0430b26",
   "metadata": {},
   "outputs": [
    {
     "data": {
      "text/plain": [
       "['Hello', 'there', ',', 'I', 'am', 'currently', 'typing']"
      ]
     },
     "execution_count": 3,
     "metadata": {},
     "output_type": "execute_result"
    }
   ],
   "source": [
    "from nltk.stem import WordNetLemmatizer\n",
    "from nltk.tokenize import word_tokenize\n",
    "lemm = WordNetLemmatizer()\n",
    "txt = 'Hello there , I am currently typing'\n",
    "tok = word_tokenize(txt)\n",
    "lm = [lemm.lemmatize(tk) for tk in tok]\n",
    "lm\n"
   ]
  },
  {
   "cell_type": "markdown",
   "id": "2a1493ce",
   "metadata": {},
   "source": [
    "# 4.Part of Speech Tagging\n"
   ]
  },
  {
   "cell_type": "code",
   "execution_count": 23,
   "id": "629ceef5",
   "metadata": {},
   "outputs": [
    {
     "name": "stdout",
     "output_type": "stream",
     "text": [
      "[('This', 'DT'), ('text', 'NN'), ('is', 'VBZ'), ('for', 'IN'), ('pos', 'NN'), ('tagging', 'NN')]\n",
      "- - - - - - - - - - - - - - - - - - - - - - - - - - - - - - - - - - - - - - - - - - \n"
     ]
    },
    {
     "data": {
      "text/plain": [
       "[[('This', 'DT'),\n",
       "  ('text', 'NN'),\n",
       "  ('is', 'VBZ'),\n",
       "  ('for', 'IN'),\n",
       "  ('pos', 'NN'),\n",
       "  ('tagging', 'NN')],\n",
       " [('New', 'NNP'), ('sentence', 'NN'), ('for', 'IN'), ('thiss', 'NN')]]"
      ]
     },
     "execution_count": 23,
     "metadata": {},
     "output_type": "execute_result"
    }
   ],
   "source": [
    "from nltk.tokenize import word_tokenize\n",
    "txt = 'This text is for pos tagging'\n",
    "tkns = word_tokenize(txt)\n",
    "tags = nltk.pos_tag(tkns)\n",
    "print(tags)\n",
    "print('- - - - - - '*7)\n",
    "txt = ['This text is for pos tagging', 'New sentence for thiss']\n",
    "tags = [nltk.pos_tag(word_tokenize(sentence)) for sentence in txt]\n",
    "tags"
   ]
  },
  {
   "cell_type": "markdown",
   "id": "367240e4",
   "metadata": {},
   "source": [
    "# 5.Word Cloud"
   ]
  },
  {
   "cell_type": "code",
   "execution_count": 5,
   "id": "c7b5e944",
   "metadata": {},
   "outputs": [
    {
     "data": {
      "text/plain": [
       "<matplotlib.image.AxesImage at 0x1fdf25eb390>"
      ]
     },
     "execution_count": 5,
     "metadata": {},
     "output_type": "execute_result"
    },
    {
     "data": {
      "image/png": "[encoded data removed]",
      "text/plain": [
       "<Figure size 640x480 with 1 Axes>"
      ]
     },
     "metadata": {},
     "output_type": "display_data"
    }
   ],
   "source": [
    "from wordcloud import WordCloud\n",
    "import matplotlib.pyplot as plt\n",
    "txt = \"Music has the power to evoke emotions, unite people, and express feelings that words alone often cannot adequately convey.\"\n",
    "wc = WordCloud().generate(txt)\n",
    "plt.imshow(wc)"
   ]
  },
  {
   "cell_type": "markdown",
   "id": "c62c046c",
   "metadata": {},
   "source": [
    "# 6.Emojification and Demojification"
   ]
  },
  {
   "cell_type": "code",
   "execution_count": 6,
   "id": "29b23ac0",
   "metadata": {},
   "outputs": [
    {
     "name": "stdout",
     "output_type": "stream",
     "text": [
      "With Emoji-  I love jordans ❤️ \n",
      "Without Emoji-  I love jordans :red_heart: \n"
     ]
    }
   ],
   "source": [
    "from emoji import demojize,emojize\n",
    "txt = 'I love jordans'\n",
    "emo = emojize(txt+\" :red_heart: \", variant=\"emoji_type\")\n",
    "print('With Emoji- ',emo)\n",
    "demo = demojize(emo)\n",
    "print('Without Emoji- ',demo)\n"
   ]
  },
  {
   "cell_type": "markdown",
   "id": "b5089a4f",
   "metadata": {},
   "source": [
    "# 7.Sentiment Analysis"
   ]
  },
  {
   "cell_type": "code",
   "execution_count": 7,
   "id": "f7b210b5",
   "metadata": {},
   "outputs": [
    {
     "name": "stdout",
     "output_type": "stream",
     "text": [
      "Sentiment(polarity=0.0, subjectivity=0.3333333333333333)\n",
      "Sentiment(polarity=0.5, subjectivity=0.5)\n"
     ]
    }
   ],
   "source": [
    "from textblob import TextBlob\n",
    "txt1 = \"The constant negativity and criticism from others can diminish self-esteem, create anxiety, and lead to feelings of isolation and despair.\"\n",
    "txt2=\"Embracing kindness and gratitude can uplift our spirits, strengthen relationships, and create a brighter, more harmonious world for everyone.\"\n",
    "tb1=TextBlob(txt1)\n",
    "tb2=TextBlob(txt2)\n",
    "print(tb1.sentiment)\n",
    "print(tb2.sentiment)\n"
   ]
  },
  {
   "cell_type": "code",
   "execution_count": 8,
   "id": "a698f0f7",
   "metadata": {},
   "outputs": [
    {
     "name": "stdout",
     "output_type": "stream",
     "text": [
      "-7.0\n",
      "6.0\n"
     ]
    }
   ],
   "source": [
    "from afinn import Afinn\n",
    "af = Afinn()\n",
    "txt1 = \"The constant negativity and criticism from others can diminish self-esteem, create anxiety, and lead to feelings of isolation and despair.\"\n",
    "txt2=\"Embracing kindness and gratitude can uplift our spirits, strengthen relationships, and create a brighter, more harmonious world for everyone.\"\n",
    "tb1=af.score(txt1)\n",
    "tb2=af.score(txt2)\n",
    "print(tb1)\n",
    "print(tb2)"
   ]
  },
  {
   "cell_type": "markdown",
   "id": "4ebaab10",
   "metadata": {},
   "source": [
    "Transformers for Sentiment Analysis"
   ]
  },
  {
   "cell_type": "code",
   "execution_count": 9,
   "id": "b1761f71",
   "metadata": {},
   "outputs": [
    {
     "name": "stderr",
     "output_type": "stream",
     "text": [
      "No model was supplied, defaulted to distilbert/distilbert-base-uncased-finetuned-sst-2-english and revision af0f99b (https://huggingface.co/distilbert/distilbert-base-uncased-finetuned-sst-2-english).\n",
      "Using a pipeline without specifying a model name and revision in production is not recommended.\n"
     ]
    },
    {
     "name": "stdout",
     "output_type": "stream",
     "text": [
      "WARNING:tensorflow:From C:\\Users\\athar\\anaconda3\\Lib\\site-packages\\tf_keras\\src\\losses.py:2976: The name tf.losses.sparse_softmax_cross_entropy is deprecated. Please use tf.compat.v1.losses.sparse_softmax_cross_entropy instead.\n",
      "\n"
     ]
    },
    {
     "name": "stderr",
     "output_type": "stream",
     "text": [
      "C:\\Users\\athar\\anaconda3\\Lib\\site-packages\\transformers\\tokenization_utils_base.py:1601: FutureWarning: `clean_up_tokenization_spaces` was not set. It will be set to `True` by default. This behavior will be depracted in transformers v4.45, and will be then set to `False` by default. For more details check this issue: https://github.com/huggingface/transformers/issues/31884\n",
      "  warnings.warn(\n"
     ]
    },
    {
     "name": "stdout",
     "output_type": "stream",
     "text": [
      "[{'label': 'NEGATIVE', 'score': 0.9965742826461792}]\n",
      "[{'label': 'POSITIVE', 'score': 0.9998712539672852}]\n"
     ]
    }
   ],
   "source": [
    "from transformers import pipeline\n",
    "sa = pipeline(\"sentiment-analysis\")\n",
    "txt1 = \"The constant negativity and criticism from others can diminish self-esteem, create anxiety, and lead to feelings of isolation and despair.\"\n",
    "txt2=\"Embracing kindness and gratitude can uplift our spirits, strengthen relationships, and create a brighter, more harmonious world for everyone.\"\n",
    "tb1=sa(txt1)\n",
    "tb2=sa(txt2)\n",
    "print(tb1)\n",
    "print(tb2)"
   ]
  },
  {
   "cell_type": "markdown",
   "id": "98f0e854",
   "metadata": {},
   "source": [
    "# 8.Named Entity Recognition"
   ]
  },
  {
   "cell_type": "code",
   "execution_count": 10,
   "id": "98d71e17",
   "metadata": {},
   "outputs": [
    {
     "name": "stdout",
     "output_type": "stream",
     "text": [
      "Apple ORG\n",
      "U.K. GPE\n",
      "$1 billion MONEY\n"
     ]
    }
   ],
   "source": [
    "import spacy\n",
    "nlp = spacy.load(\"en_core_web_sm\")\n",
    "text = \"Apple is looking at buying U.K. startup for $1 billion.\"\n",
    "doc = nlp(text)\n",
    "for ent in doc.ents:\n",
    "    print(ent.text, ent.label_)\n"
   ]
  },
  {
   "cell_type": "markdown",
   "id": "87f3da3e",
   "metadata": {},
   "source": [
    "# 9.Similarity"
   ]
  },
  {
   "cell_type": "code",
   "execution_count": 11,
   "id": "3d57004d",
   "metadata": {},
   "outputs": [
    {
     "name": "stderr",
     "output_type": "stream",
     "text": [
      "C:\\Users\\athar\\AppData\\Local\\Temp\\ipykernel_12000\\2361067150.py:5: UserWarning: [W007] The model you're using has no word vectors loaded, so the result of the Doc.similarity method will be based on the tagger, parser and NER, which may not give useful similarity judgements. This may happen if you're using one of the small models, e.g. `en_core_web_sm`, which don't ship with word vectors and only use context-sensitive tensors. You can always add your own word vectors, or use one of the larger models instead if available.\n",
      "  sim=word1.similarity(word2)\n"
     ]
    },
    {
     "data": {
      "text/plain": [
       "0.9318705654495244"
      ]
     },
     "execution_count": 11,
     "metadata": {},
     "output_type": "execute_result"
    }
   ],
   "source": [
    "import spacy\n",
    "nlp = spacy.load(\"en_core_web_sm\")\n",
    "word1 = nlp(\"king is the hero\")\n",
    "word2 = nlp(\"queen is the hero\")\n",
    "sim=word1.similarity(word2)\n",
    "sim"
   ]
  },
  {
   "cell_type": "code",
   "execution_count": 29,
   "id": "a8700058",
   "metadata": {},
   "outputs": [
    {
     "name": "stdout",
     "output_type": "stream",
     "text": [
      "Cosine Similarity: 0.96332\n"
     ]
    }
   ],
   "source": [
    "import spacy\n",
    "import numpy as np\n",
    "\n",
    "nlp = spacy.load(\"en_core_web_md\") \n",
    "doc1 = nlp(\"king is the hero\")\n",
    "doc2 = nlp(\"queen is the hero\")\n",
    "vector1 = doc1.vector\n",
    "vector2 = doc2.vector\n",
    "cosine_sim = vector1.dot(vector2) / (np.linalg.norm(vector1) * np.linalg.norm(vector2))\n",
    "print(\"Cosine Similarity:\", cosine_sim)\n"
   ]
  },
  {
   "cell_type": "markdown",
   "id": "d3b8046e",
   "metadata": {},
   "source": [
    "# 10.Grammar Checking"
   ]
  },
  {
   "cell_type": "code",
   "execution_count": 2,
   "id": "bf4fdb59",
   "metadata": {},
   "outputs": [
    {
     "name": "stdout",
     "output_type": "stream",
     "text": [
      "Corrected Sentence:\n",
      "She goes to the market. They are playing in the park.\n"
     ]
    }
   ],
   "source": [
    "import language_tool_python\n",
    "\n",
    "tool = language_tool_python.LanguageTool('en-US')\n",
    "text = \"She go to the market. They is playing in the park.\"\n",
    "corrected_text = tool.correct(text)\n",
    "\n",
    "# Print the corrected sentence\n",
    "print(\"Corrected Sentence:\")\n",
    "print(corrected_text)\n"
   ]
  },
  {
   "cell_type": "markdown",
   "id": "feafc23d",
   "metadata": {},
   "source": [
    "# 11.N-Grams"
   ]
  },
  {
   "cell_type": "code",
   "execution_count": 13,
   "id": "fe6fd719",
   "metadata": {},
   "outputs": [
    {
     "data": {
      "text/plain": [
       "[('Apple', 'is'),\n",
       " ('is', 'looking'),\n",
       " ('looking', 'at'),\n",
       " ('at', 'buying'),\n",
       " ('buying', 'U.K.'),\n",
       " ('U.K.', 'startup'),\n",
       " ('startup', 'for'),\n",
       " ('for', '$'),\n",
       " ('$', '1'),\n",
       " ('1', 'billion'),\n",
       " ('billion', '.')]"
      ]
     },
     "execution_count": 13,
     "metadata": {},
     "output_type": "execute_result"
    }
   ],
   "source": [
    "from nltk import ngrams\n",
    "text = \"Apple is looking at buying U.K. startup for $1 billion.\"\n",
    "tok = word_tokenize(text)\n",
    "bg = list(ngrams(tok,2))\n",
    "bg"
   ]
  },
  {
   "cell_type": "markdown",
   "id": "cf9eb5da",
   "metadata": {},
   "source": [
    "Transformers for Named Entity Recognition"
   ]
  },
  {
   "cell_type": "code",
   "execution_count": 14,
   "id": "035f0799",
   "metadata": {},
   "outputs": [
    {
     "name": "stderr",
     "output_type": "stream",
     "text": [
      "No model was supplied, defaulted to dbmdz/bert-large-cased-finetuned-conll03-english and revision f2482bf (https://huggingface.co/dbmdz/bert-large-cased-finetuned-conll03-english).\n",
      "Using a pipeline without specifying a model name and revision in production is not recommended.\n",
      "Some weights of the model checkpoint at dbmdz/bert-large-cased-finetuned-conll03-english were not used when initializing BertForTokenClassification: ['bert.pooler.dense.bias', 'bert.pooler.dense.weight']\n",
      "- This IS expected if you are initializing BertForTokenClassification from the checkpoint of a model trained on another task or with another architecture (e.g. initializing a BertForSequenceClassification model from a BertForPreTraining model).\n",
      "- This IS NOT expected if you are initializing BertForTokenClassification from the checkpoint of a model that you expect to be exactly identical (initializing a BertForSequenceClassification model from a BertForSequenceClassification model).\n",
      "C:\\Users\\athar\\anaconda3\\Lib\\site-packages\\transformers\\tokenization_utils_base.py:1601: FutureWarning: `clean_up_tokenization_spaces` was not set. It will be set to `True` by default. This behavior will be depracted in transformers v4.45, and will be then set to `False` by default. For more details check this issue: https://github.com/huggingface/transformers/issues/31884\n",
      "  warnings.warn(\n"
     ]
    },
    {
     "data": {
      "text/plain": [
       "[{'entity': 'I-ORG',\n",
       "  'score': 0.9990897,\n",
       "  'index': 1,\n",
       "  'word': 'Apple',\n",
       "  'start': 0,\n",
       "  'end': 5},\n",
       " {'entity': 'I-LOC',\n",
       "  'score': 0.999718,\n",
       "  'index': 6,\n",
       "  'word': 'U',\n",
       "  'start': 27,\n",
       "  'end': 28},\n",
       " {'entity': 'I-LOC',\n",
       "  'score': 0.9987226,\n",
       "  'index': 8,\n",
       "  'word': 'K',\n",
       "  'start': 29,\n",
       "  'end': 30}]"
      ]
     },
     "execution_count": 14,
     "metadata": {},
     "output_type": "execute_result"
    }
   ],
   "source": [
    "from transformers import pipeline\n",
    "ng = pipeline(\"ner\")\n",
    "text = \"Apple is looking at buying U.K. startup for $1 billion.\"\n",
    "ng(text)"
   ]
  },
  {
   "cell_type": "markdown",
   "id": "56c98594",
   "metadata": {},
   "source": [
    "# 12.Fuzzy Matching"
   ]
  },
  {
   "cell_type": "code",
   "execution_count": 15,
   "id": "aeea46d3",
   "metadata": {},
   "outputs": [
    {
     "name": "stdout",
     "output_type": "stream",
     "text": [
      "73\n"
     ]
    },
    {
     "name": "stderr",
     "output_type": "stream",
     "text": [
      "C:\\Users\\athar\\anaconda3\\Lib\\site-packages\\fuzzywuzzy\\fuzz.py:11: UserWarning: Using slow pure-python SequenceMatcher. Install python-Levenshtein to remove this warning\n",
      "  warnings.warn('Using slow pure-python SequenceMatcher. Install python-Levenshtein to remove this warning')\n"
     ]
    }
   ],
   "source": [
    "from fuzzywuzzy import fuzz\n",
    "string1 = \"Hello there world!\"\n",
    "string2 = \"Hello World!\"\n",
    "similarity = fuzz.ratio(string1, string2)\n",
    "print(similarity)\n"
   ]
  },
  {
   "cell_type": "markdown",
   "id": "ab38e295",
   "metadata": {},
   "source": [
    "# 13.Spam Detection"
   ]
  },
  {
   "cell_type": "code",
   "execution_count": 7,
   "id": "3b1e4a89",
   "metadata": {},
   "outputs": [
    {
     "name": "stdout",
     "output_type": "stream",
     "text": [
      "Spam Detection Accuracy: 66.67%\n",
      "Win a free iPhone now! ,is detected as :- \n",
      "Spam\n"
     ]
    }
   ],
   "source": [
    "from sklearn.feature_extraction.text import TfidfVectorizer\n",
    "from sklearn.model_selection import train_test_split\n",
    "from sklearn.naive_bayes import MultinomialNB\n",
    "from sklearn.metrics import accuracy_score\n",
    "\n",
    "# Sample data (more balanced and larger dataset)\n",
    "texts = [\n",
    "    \"Congratulations, you've won a free ticket!\",\n",
    "    \"Meeting scheduled at 10 AM tomorrow.\",\n",
    "    \"You have won a $1000 gift card, claim now!\",\n",
    "    \"Let's catch up over coffee this weekend.\",\n",
    "    \"Exclusive offer! Buy one, get one free.\",\n",
    "    \"Reminder: Your appointment is scheduled for 2 PM.\",\n",
    "    \"Urgent: Your account has been compromised.\",\n",
    "    \"Are you available for a quick call tomorrow?\",\n",
    "    \"This is your last chance to claim your prize.\",\n",
    "    \"The report is due tomorrow, please review.\"\n",
    "]\n",
    "labels = [1, 0, 1, 0, 1, 0, 1, 0, 1, 0]  \n",
    "\n",
    "\n",
    "vectorizer = TfidfVectorizer(stop_words='english')\n",
    "X = vectorizer.fit_transform(texts)\n",
    "\n",
    "X_train, X_test, y_train, y_test = train_test_split(X, labels, test_size=0.3, random_state=42)\n",
    "\n",
    "\n",
    "model = MultinomialNB()\n",
    "model.fit(X_train, y_train)\n",
    "y_pred = model.predict(X_test)\n",
    "accuracy = accuracy_score(y_test, y_pred)\n",
    "print(f\"Spam Detection Accuracy: {accuracy * 100:.2f}%\")\n",
    "\n",
    "\n",
    "new_text = \"Win a free iPhone now!\"\n",
    "new_X = vectorizer.transform([new_text])  \n",
    "prediction = model.predict(new_X)\n",
    "print(new_text,',is detected as :- ')\n",
    "if prediction[0]==1:\n",
    "    print('Spam')\n",
    "else:\n",
    "    print('Not Spam')\n",
    "#print(new_text, \"is classified as\", \"Spam\" if prediction[0] == 1 else \"Not Spam\")\n"
   ]
  },
  {
   "cell_type": "markdown",
   "id": "edce8d8b",
   "metadata": {},
   "source": [
    "# 14.Topic Modelling"
   ]
  },
  {
   "cell_type": "code",
   "execution_count": 17,
   "id": "e5424cf7",
   "metadata": {},
   "outputs": [
    {
     "name": "stdout",
     "output_type": "stream",
     "text": [
      "Topic 0: 0.141*\"modeling\" + 0.141*\"topic\" + 0.085*\"library\" + 0.085*\"used\"\n",
      "Topic 1: 0.107*\"python\" + 0.064*\"language\" + 0.064*\"natural\" + 0.064*\"processing\"\n"
     ]
    }
   ],
   "source": [
    "import re\n",
    "import nltk\n",
    "from gensim import corpora\n",
    "from gensim.models import LdaModel\n",
    "from nltk.corpus import stopwords\n",
    "\n",
    "# Download stopwords if not already downloaded\n",
    "nltk.download('stopwords', quiet=True)\n",
    "\n",
    "# Sample documents\n",
    "documents = [\n",
    "    \"Natural Language Processing with Python is fun.\",\n",
    "    \"LDA is used for topic modeling.\",\n",
    "    \"Gensim is a library for topic modeling.\",\n",
    "    \"Python is great for machine learning.\",\n",
    "    \"Text analysis can reveal hidden patterns.\"\n",
    "]\n",
    "\n",
    "# Preprocess the text: lowercase, remove non-alphabetic characters, and stopwords\n",
    "stop_words = set(stopwords.words('english'))\n",
    "processed_docs = [\n",
    "    [word for word in re.sub(r'\\W', ' ', doc).lower().split() if word not in stop_words]\n",
    "    for doc in documents\n",
    "]\n",
    "\n",
    "# Create dictionary and corpus for LDA\n",
    "dictionary = corpora.Dictionary(processed_docs)\n",
    "corpus = [dictionary.doc2bow(doc) for doc in processed_docs]\n",
    "\n",
    "# Apply LDA model to find topics\n",
    "num_topics = 2\n",
    "lda_model = LdaModel(corpus, id2word=dictionary, num_topics=num_topics, passes=10)\n",
    "\n",
    "# Print the topics with the top words\n",
    "for idx, topic in lda_model.print_topics(num_words=4):\n",
    "    print(f\"Topic {idx}: {topic}\")"
   ]
  },
  {
   "cell_type": "code",
   "execution_count": null,
   "id": "fbb60182",
   "metadata": {},
   "outputs": [],
   "source": [
    "# TRANS"
   ]
  },
  {
   "cell_type": "code",
   "execution_count": 2,
   "id": "17c8b89f",
   "metadata": {},
   "outputs": [
    {
     "name": "stderr",
     "output_type": "stream",
     "text": [
      "C:\\Users\\athar\\anaconda3\\Lib\\site-packages\\threadpoolctl.py:1214: RuntimeWarning: \n",
      "Found Intel OpenMP ('libiomp') and LLVM OpenMP ('libomp') loaded at\n",
      "the same time. Both libraries are known to be incompatible and this\n",
      "can cause random crashes or deadlocks on Linux when loaded in the\n",
      "same Python program.\n",
      "Using threadpoolctl may cause crashes or deadlocks. For more\n",
      "information and possible workarounds, please see\n",
      "    https://github.com/joblib/threadpoolctl/blob/master/multiple_openmp.md\n",
      "\n",
      "  warnings.warn(msg, RuntimeWarning)\n",
      "No model was supplied, defaulted to distilbert/distilbert-base-uncased-finetuned-sst-2-english and revision af0f99b (https://huggingface.co/distilbert/distilbert-base-uncased-finetuned-sst-2-english).\n",
      "Using a pipeline without specifying a model name and revision in production is not recommended.\n"
     ]
    },
    {
     "name": "stdout",
     "output_type": "stream",
     "text": [
      "WARNING:tensorflow:From C:\\Users\\athar\\anaconda3\\Lib\\site-packages\\tf_keras\\src\\losses.py:2976: The name tf.losses.sparse_softmax_cross_entropy is deprecated. Please use tf.compat.v1.losses.sparse_softmax_cross_entropy instead.\n",
      "\n"
     ]
    },
    {
     "name": "stderr",
     "output_type": "stream",
     "text": [
      "C:\\Users\\athar\\anaconda3\\Lib\\site-packages\\transformers\\tokenization_utils_base.py:1601: FutureWarning: `clean_up_tokenization_spaces` was not set. It will be set to `True` by default. This behavior will be depracted in transformers v4.45, and will be then set to `False` by default. For more details check this issue: https://github.com/huggingface/transformers/issues/31884\n",
      "  warnings.warn(\n"
     ]
    },
    {
     "name": "stdout",
     "output_type": "stream",
     "text": [
      "Text Classification Result: [{'label': 'POSITIVE', 'score': 0.9971315860748291}]\n"
     ]
    }
   ],
   "source": [
    "from transformers import pipeline\n",
    "\n",
    "classifier = pipeline(\"text-classification\")\n",
    "text = \"I love using Hugging Face Transformers!\"\n",
    "result = classifier(text)\n",
    "print(\"Text Classification Result:\", result)"
   ]
  },
  {
   "cell_type": "code",
   "execution_count": null,
   "id": "e067554f",
   "metadata": {},
   "outputs": [],
   "source": [
    "translator = pipeline(\"translation_en_to_fr\")\n",
    "text = \"Hello, how are you?\"\n",
    "translated = translator(text)\n",
    "print(\"Translated Text:\", translated)\n"
   ]
  },
  {
   "cell_type": "code",
   "execution_count": null,
   "id": "f76f18cb",
   "metadata": {},
   "outputs": [],
   "source": [
    "# 3.Text Summarization\n",
    "from transformers import pipeline\n",
    "summarizer = pipeline(\"summarization\")\n",
    "\n",
    "text = \"\"\"The Hugging Face Transformers library provides easy access to many pre-trained models. \n",
    "It supports tasks like text classification, named entity recognition, and text generation, making it a versatile tool for NLP.\"\"\"\n",
    "\n",
    "summary = summarizer(text, max_length=30, min_length=10, do_sample=False)\n",
    "print(\"Summary:\", summary)\n"
   ]
  },
  {
   "cell_type": "code",
   "execution_count": null,
   "id": "f74573b4",
   "metadata": {},
   "outputs": [],
   "source": [
    "from transformers import pipeline\n",
    "\n",
    "generator = pipeline(\"text-generation\")\n",
    "prompt = \"Once upon a time\"\n",
    "\n",
    "generated_text = generator(prompt, max_length=50, num_return_sequences=1)\n",
    "print(\"Generated Text:\", generated_text[0]['generated_text'])"
   ]
  }
 ],
 "metadata": {
  "kernelspec": {
   "display_name": "Python 3 (ipykernel)",
   "language": "python",
   "name": "python3"
  },
  "language_info": {
   "codemirror_mode": {
    "name": "ipython",
    "version": 3
   },
   "file_extension": ".py",
   "mimetype": "text/x-python",
   "name": "python",
   "nbconvert_exporter": "python",
   "pygments_lexer": "ipython3",
   "version": "3.11.4"
  }
 },
 "nbformat": 4,
 "nbformat_minor": 5
}
